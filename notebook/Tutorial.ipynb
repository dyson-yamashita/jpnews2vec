{
 "cells": [
  {
   "cell_type": "markdown",
   "metadata": {},
   "source": [
    "# jpnews2vec"
   ]
  },
  {
   "cell_type": "code",
   "execution_count": 1,
   "metadata": {
    "collapsed": true
   },
   "outputs": [],
   "source": [
    "import sys\n",
    "sys.path.append('../jpnews2vec')\n",
    "from news import NewsML"
   ]
  },
  {
   "cell_type": "markdown",
   "metadata": {},
   "source": [
    "### インスタンス生成時に興味のあるキーワードをpositivesに指定する"
   ]
  },
  {
   "cell_type": "code",
   "execution_count": 2,
   "metadata": {
    "collapsed": true
   },
   "outputs": [],
   "source": [
    "news_ml = NewsML(positives=['AI'])"
   ]
  },
  {
   "cell_type": "markdown",
   "metadata": {},
   "source": [
    "### ニュースサイトをスクレイピングし、Sqlite3のDBにニュース記事を保存"
   ]
  },
  {
   "cell_type": "code",
   "execution_count": 3,
   "metadata": {
    "collapsed": false
   },
   "outputs": [],
   "source": [
    "news_ml.updateNews()"
   ]
  },
  {
   "cell_type": "markdown",
   "metadata": {},
   "source": [
    "### ニュース記事からword2vecのモデルを構築"
   ]
  },
  {
   "cell_type": "code",
   "execution_count": 4,
   "metadata": {
    "collapsed": true
   },
   "outputs": [],
   "source": [
    "news_ml.buildModel()"
   ]
  },
  {
   "cell_type": "markdown",
   "metadata": {},
   "source": [
    "### 関連ワードの取得\n",
    "- ニュース記事のword2vecモデルからキーワードの関連ワードをスコア付きで取得"
   ]
  },
  {
   "cell_type": "code",
   "execution_count": 5,
   "metadata": {
    "collapsed": false
   },
   "outputs": [],
   "source": [
    "news_ml.saveWordWeights()"
   ]
  },
  {
   "cell_type": "markdown",
   "metadata": {},
   "source": [
    "- 関連ワードのスコア例\n",
    "\n",
    "| ID | ワード | スコア |\n",
    "|---|------------|------------|\n",
    "|1|AI|1.0|\n",
    "|2|アプリケーション|0.902275800704956|\n",
    "|3|プラットフォーム|0.848405063152313|\n",
    "|4|ソリューション|0.833644092082977|\n",
    "|5|パートナー|0.826622247695923|\n",
    "|6|...|...|"
   ]
  },
  {
   "cell_type": "markdown",
   "metadata": {},
   "source": [
    "### 推薦ニュース記事の取得\n",
    "- topnで記事数を指定"
   ]
  },
  {
   "cell_type": "code",
   "execution_count": 9,
   "metadata": {
    "collapsed": false
   },
   "outputs": [
    {
     "data": {
      "text/plain": [
       "[{'id': 3,\n",
       "  'title': '大統領選を勝たせたビッグデータの力',\n",
       "  'url': 'http://www.msn.com/ja-jp/news/techandscience/%e3%83%88%e3%83%a9%e3%83%b3%e3%83%97%e3%82%92%e5%8b%9d%e5%88%a9%e3%81%95%e3%81%9b%e3%81%9f%e3%80%8c%e8%ac%8e%e3%81%ae%e3%83%93%e3%83%83%e3%82%b0%e3%83%87%e3%83%bc%e3%82%bf%e4%bc%81%e6%a5%ad%e3%80%8dceo%e3%81%ae%e6%bf%80%e7%99%bd/ar-BBEYFhm'},\n",
       " {'id': 11,\n",
       "  'title': '困っている人に教えたい。絵文字が文字化けする原因と対策',\n",
       "  'url': 'http://www.msn.com/ja-jp/news/opinion/%e5%9b%b0%e3%81%a3%e3%81%a6%e3%81%84%e3%82%8b%e4%ba%ba%e3%81%ab%e6%95%99%e3%81%88%e3%81%9f%e3%81%84%e3%80%82%e7%b5%b5%e6%96%87%e5%ad%97%e3%81%8c%e6%96%87%e5%ad%97%e5%8c%96%e3%81%91%e3%81%99%e3%82%8b%e5%8e%9f%e5%9b%a0%e3%81%a8%e5%af%be%e7%ad%96/ar-BBEZnbc'},\n",
       " {'id': 58,\n",
       "  'title': '絵文字が文字化けする原因と対策',\n",
       "  'url': 'http://www.msn.com/ja-jp/news/opinion/%e5%9b%b0%e3%81%a3%e3%81%a6%e3%81%84%e3%82%8b%e4%ba%ba%e3%81%ab%e6%95%99%e3%81%88%e3%81%9f%e3%81%84%e3%80%82%e7%b5%b5%e6%96%87%e5%ad%97%e3%81%8c%e6%96%87%e5%ad%97%e5%8c%96%e3%81%91%e3%81%99%e3%82%8b%e5%8e%9f%e5%9b%a0%e3%81%a8%e5%af%be%e7%ad%96/ar-BBEZnbc'}]"
      ]
     },
     "execution_count": 9,
     "metadata": {},
     "output_type": "execute_result"
    }
   ],
   "source": [
    "news_ml.getRecomendAirticles(topn=3)"
   ]
  },
  {
   "cell_type": "markdown",
   "metadata": {},
   "source": [
    "### おまけ：URLを短くするためにGoogle URL Shortenerも使用できる"
   ]
  },
  {
   "cell_type": "code",
   "execution_count": 10,
   "metadata": {
    "collapsed": false
   },
   "outputs": [
    {
     "data": {
      "text/plain": [
       "[{'id': 3, 'title': '大統領選を勝たせたビッグデータの力', 'url': 'https://goo.gl/Y4wxy6'}]"
      ]
     },
     "execution_count": 10,
     "metadata": {},
     "output_type": "execute_result"
    }
   ],
   "source": [
    "news_ml.ggl_api_key ='<Google URL ShortenerのAPIキー>'\n",
    "news_ml.getRecomendAirticles(short_url=True)"
   ]
  }
 ],
 "metadata": {
  "anaconda-cloud": {},
  "kernelspec": {
   "display_name": "Python [conda root]",
   "language": "python",
   "name": "conda-root-py"
  },
  "language_info": {
   "codemirror_mode": {
    "name": "ipython",
    "version": 3
   },
   "file_extension": ".py",
   "mimetype": "text/x-python",
   "name": "python",
   "nbconvert_exporter": "python",
   "pygments_lexer": "ipython3",
   "version": "3.5.2"
  }
 },
 "nbformat": 4,
 "nbformat_minor": 1
}
